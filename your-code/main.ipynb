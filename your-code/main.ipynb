{
 "cells": [
  {
   "cell_type": "markdown",
   "metadata": {},
   "source": [
    "# Probability"
   ]
  },
  {
   "cell_type": "markdown",
   "metadata": {},
   "source": [
    "## Challenge 1\n",
    "There is a box with 10 white balls, 12 red balls and 8 black balls. Calculate the probability of:\n",
    "* Taking a white ball out.\n",
    "* Taking a white ball on first extraction and a black ball out on second extraction without replacing the first one.\n",
    "* Taking a white ball on first extraction and a black ball out on second extraction replacing the first one.\n",
    "* Taking 3 balls and them being all different colours."
   ]
  },
  {
   "cell_type": "markdown",
   "metadata": {},
   "source": [
    "1. Probability of taking a white ball out:\n",
    "    $P(A) = \\frac{10}{30} = 0.33$\n",
    "\n",
    "2. Probability of taking a white ball on first extraction and a black ball out on second extraction without replacing the first one.\n",
    "\n",
    "     $P(B|W) = P(W) \\times P(B \\cap W) = \\frac{10}{30} \\times \\frac{8}{29}  = 0.0919$\n",
    "\n",
    "3. Probability of tyaking a white ball on first extraction and a black ball out on second extraction replacing the first one.\n",
    "    $P(B \\space and \\space W) = P(B) \\times P(W) = \\frac{10}{30} \\times \\frac{8}{30}  = 0.0888$\n",
    "\n",
    "4. Probability of taking 3 balls and them being all different colours.\n",
    "    $P(W \\space and \\space R \\space and \\space B) = P(W) \\times P(R) \\times P(B) = 0.0355$\n",
    "\n"
   ]
  },
  {
   "cell_type": "markdown",
   "metadata": {},
   "source": [
    "## Challenge 2\n",
    "\n",
    "You want to go on picnic on Saturday. You hate rain, and would know to plan your weekend. To help you make a decision, you gather the following data about rainy days:\n",
    "\n",
    "* 40% of all days are cloudy.\n",
    "* About 50% of cloudy days are rainy. \n",
    "* About 20% of non-cloudy days are rainy.\n",
    "\n",
    "What is the chance of rain during next Saturday?"
   ]
  },
  {
   "cell_type": "markdown",
   "metadata": {},
   "source": [
    "$P(rain) = P(rain \\space and \\space cloudy) + P(rain \\space and \\space non-cloudy) = P(cloudy) \\times P(rain|cloudy) + P(non-cloudy) \\times(rain|non-cloudy) = (0.4 \\times 0.5) + [(1 - 0.4) \\times 0.2) =  0.32$"
   ]
  },
  {
   "cell_type": "markdown",
   "metadata": {},
   "source": [
    "## Challenge 3\n",
    "\n",
    "A and B are events of a probability such that $P(A) = 0.3$, $P(B) = 0.6$ and $P(A \\cap B) = 0.1$\n",
    "\n",
    "Which of the following statements are true?  \n",
    "**HINT: draw a big Venn Diagram by your side**  \n",
    "* $P(\\overline{A}) = 1 - P(A) = 1 - 0.3 = 0.7$ TRUE\n",
    "* $P(A \\cup B) = P(A) + P(B) + P(A \\cap B)  = 0.3 + 0.6 + 0.1 \\neq  0.6$ FALSE\n",
    "* $P(A \\cap \\overline{B}) = P(A) - P(A \\cap B) = 0.3 - 0.1 = 0.2$ TRUE\n",
    "* $P(A \\cup \\overline{A}) = 1 TRUE$  \n",
    "* $P(A \\cap (B \\cup \\overline{B})) = P(A \\cap 1) = P(A) \\neq 0.4$ FALSE\n",
    "* $P(\\overline{A} \\cap \\overline{B}) =  1 - P(A \\cup B) = 1 - (P(A) + P(B) + P(A \\cap B) = 1 - (0.3 + 0.6 + 0.1) = 1 - 0.7 = 0.3$ TRUE\n",
    "* $P(\\overline{A \\cap B}) = 1- P(A \\cap B) = 1 - 0.1 = 0.9$ TRUE"
   ]
  },
  {
   "cell_type": "markdown",
   "metadata": {},
   "source": []
  },
  {
   "cell_type": "markdown",
   "metadata": {},
   "source": [
    "## Challenge 4\n",
    "\n",
    " * If someone flies to China, the probability of getting Covid is 1%  \n",
    " * If someone flies to Italy, the probability of getting Covid is 20%  \n",
    "\n",
    "I roll 1 dice with numbers 1, 2, 3, 4, 5, 6:  \n",
    " * If 1: I fly to Italy\n",
    " * If not 1: I fly to China\n",
    "\n",
    "During my trip, I got Covid. What is the probability that I flew to China?"
   ]
  },
  {
   "cell_type": "markdown",
   "metadata": {},
   "source": [
    "* $P(COVID) = P(COVID|Italy) + P(COVID|China) = P(dice = 1) \\times P(covid \\space in \\space Italy) + P(dice \\neq 1) \\times P(covid \\space in \\space China) = 0.2 \\times \\frac{1}{6} + 0.01 \\times \\frac{5}{6} = 0.04$\n",
    "* $P(china|Covid) = \\frac{P(Covid|china) \\times P(China)}{P(COVID)} = \\frac{0.01 \\times \\frac{5}{6}}{0.04} = 0.2$"
   ]
  },
  {
   "cell_type": "markdown",
   "metadata": {},
   "source": [
    "## BONUS\n",
    "\n",
    "You roll 2 dice. What is the probability that the sum of the numbers is 7? And 8? And 9? Then simulate 10000 times and draw a countplot."
   ]
  },
  {
   "cell_type": "markdown",
   "metadata": {},
   "source": [
    "your explanation here"
   ]
  },
  {
   "cell_type": "markdown",
   "metadata": {},
   "source": [
    "* $P(A+B=7) =  \\frac{combinations \\space for \\space 7}{total \\space combinations} = \\frac{6}{6 \\times 6} = \\frac{1}{6}$\n",
    "* $P(A+B=9) =  \\frac{combinations \\space for \\space 9}{total \\space combinations} = \\frac{4}{6 \\times 6} = \\frac{1}{9}$\n"
   ]
  },
  {
   "cell_type": "code",
   "execution_count": 8,
   "metadata": {},
   "outputs": [],
   "source": [
    "import random \n",
    "import numpy as np\n",
    "import pandas as pd\n",
    "import matplotlib.pyplot as plt\n",
    "import seaborn as sns"
   ]
  },
  {
   "cell_type": "code",
   "execution_count": 32,
   "metadata": {},
   "outputs": [
    {
     "name": "stderr",
     "output_type": "stream",
     "text": [
      "No artists with labels found to put in legend.  Note that artists whose label start with an underscore are ignored when legend() is called with no argument.\n"
     ]
    },
    {
     "data": {
      "image/png": "[encoded data removed]",
      "text/plain": [
       "<Figure size 640x480 with 1 Axes>"
      ]
     },
     "metadata": {},
     "output_type": "display_data"
    }
   ],
   "source": [
    "\n",
    "def rolldice(roll_times):\n",
    "    rolls = []\n",
    "    for i in range(roll_times):\n",
    "        roll = np.random.randint(1,6) + random.randint(1,6)\n",
    "        rolls.append(roll)\n",
    "    sns.histplot(rolls, kde=True, color='blue')\n",
    "    plt.title('Distribution of Rolling 2 dice')\n",
    "    plt.xlabel('roll value')\n",
    "    plt.ylabel('Frequency')\n",
    "    plt.legend()\n",
    "    plt.show()\n",
    "\n",
    "rolldice(1000)\n",
    "\n"
   ]
  },
  {
   "cell_type": "code",
   "execution_count": null,
   "metadata": {},
   "outputs": [],
   "source": []
  }
 ],
 "metadata": {
  "kernelspec": {
   "display_name": "Python 3 (ipykernel)",
   "language": "python",
   "name": "python3"
  },
  "language_info": {
   "codemirror_mode": {
    "name": "ipython",
    "version": 3
   },
   "file_extension": ".py",
   "mimetype": "text/x-python",
   "name": "python",
   "nbconvert_exporter": "python",
   "pygments_lexer": "ipython3",
   "version": "3.12.4"
  },
  "toc": {
   "base_numbering": 1,
   "nav_menu": {},
   "number_sections": false,
   "sideBar": true,
   "skip_h1_title": false,
   "title_cell": "Table of Contents",
   "title_sidebar": "Contents",
   "toc_cell": false,
   "toc_position": {
    "height": "calc(100% - 180px)",
    "left": "10px",
    "top": "150px",
    "width": "296.475px"
   },
   "toc_section_display": true,
   "toc_window_display": false
  },
  "varInspector": {
   "cols": {
    "lenName": 16,
    "lenType": 16,
    "lenVar": 40
   },
   "kernels_config": {
    "python": {
     "delete_cmd_postfix": "",
     "delete_cmd_prefix": "del ",
     "library": "var_list.py",
     "varRefreshCmd": "print(var_dic_list())"
    },
    "r": {
     "delete_cmd_postfix": ") ",
     "delete_cmd_prefix": "rm(",
     "library": "var_list.r",
     "varRefreshCmd": "cat(var_dic_list()) "
    }
   },
   "types_to_exclude": [
    "module",
    "function",
    "builtin_function_or_method",
    "instance",
    "_Feature"
   ],
   "window_display": false
  }
 },
 "nbformat": 4,
 "nbformat_minor": 2
}
